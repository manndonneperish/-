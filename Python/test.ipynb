{
 "cells": [
  {
   "cell_type": "code",
   "execution_count": 5,
   "metadata": {},
   "outputs": [
    {
     "name": "stdout",
     "output_type": "stream",
     "text": [
      "109.2 14.7\n",
      "15\n",
      "41.83333333333334 21.11284871712912 0.5046896107680267 51.561332140152174 32.10533452651451\n"
     ]
    }
   ],
   "source": [
    "L1 = [52.5, 14.7, 36.4, 35, 35.4, 35, 35, 35, 35, 35, 61.6, 35, 35, 109.2, 37.7]\n",
    "\n",
    "avg = sum(L1) / len(L1)\n",
    "\n",
    "sum2 = 0\n",
    "for i in L1:\n",
    "    sum2 += i**2\n",
    "delta = ((sum2 - ((sum(L1)**2)/len(L1)))/(len(L1) - 1)) ** 0.5\n",
    "\n",
    "d = delta / avg\n",
    "\n",
    "b1 = (1 + ((1.704/(len(L1)**0.5)) + (4.678/(len(L1)**2)))*d) * avg\n",
    "b2 = (1 - ((1.704/(len(L1)**0.5)) + (4.678/(len(L1)**2)))*d) * avg\n",
    "\n",
    "print(max(L1), min(L1))\n",
    "print(len(L1))\n",
    "print(avg, delta, d, b1, b2)"
   ]
  }
 ],
 "metadata": {
  "kernelspec": {
   "display_name": "Python 3",
   "language": "python",
   "name": "python3"
  },
  "language_info": {
   "codemirror_mode": {
    "name": "ipython",
    "version": 3
   },
   "file_extension": ".py",
   "mimetype": "text/x-python",
   "name": "python",
   "nbconvert_exporter": "python",
   "pygments_lexer": "ipython3",
   "version": "3.11.3"
  }
 },
 "nbformat": 4,
 "nbformat_minor": 2
}
